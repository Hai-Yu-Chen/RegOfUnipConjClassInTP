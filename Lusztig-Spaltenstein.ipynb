{
 "cells": [
  {
   "cell_type": "code",
   "execution_count": 21,
   "metadata": {
    "scrolled": true
   },
   "outputs": [
    {
     "name": "stdout",
     "output_type": "stream",
     "text": [
      "The two parabolic subgroups are not conjugate.\n"
     ]
    }
   ],
   "source": [
    "# Lusztig-Spaltenstein Algorithm\n",
    "# Type E convention 1 3 4 5 6 7 8 same as Bourbaki\n",
    "#                       2\n",
    "\n",
    "# Input under above convention if type E\n",
    "J=[1,2,3,4];\n",
    "K=[1,2,3,5];\n",
    "Type='E';n=8;\n",
    "\n",
    "# Main program\n",
    "W=WeylGroup([Type,n],prefix=\"s\",implementation=\"permutation\");\n",
    "I=[]; # Want to construct I_i, with I_0=J, I_n=K satisfying given conditions.\n",
    "X=[]; # The elements used for conjugation.\n",
    "I.append(J); #I_0=J.\n",
    "conjugate=False; #If J and K are conjugated.\n",
    "M=copy(I); # Remember all conjugated sets.\n",
    "\n",
    "def DFS(i):\n",
    "    global conjugate;\n",
    "    for j in range(n):\n",
    "        if (not ((j+1) in I[i])):\n",
    "            \n",
    "            L=copy(I[i]);\n",
    "            L.append(j+1);\n",
    "            x=W.long_element(index_set=I[i])*W.long_element(index_set=L); #longest coset representative.\n",
    "            X.append(x);\n",
    "            L.pop();\n",
    "            \n",
    "            # calculate x^-1*L*x and see if it is again standard parabolic.\n",
    "            flag=False;\n",
    "            for k in range(len(L)):\n",
    "                y=x^-1*W.simple_reflection(L[k])*x;\n",
    "                if y.length()!=1: #x^-1*L*x is not simple reflection\n",
    "                    flag=True;\n",
    "                    break;\n",
    "                L[k]=int(str(y)[1:]);\n",
    "            if flag:\n",
    "                continue;\n",
    "            if Set(L)==Set(K):\n",
    "                conjugate=True;\n",
    "                I.append(L);\n",
    "                print(\"The two parabolic subgroups are conjugate, with conjugation sequence as follows:\");\n",
    "                for l in range(len(I)-1):\n",
    "                    print(Set(I[l]),\"--\", X[l],\"-> \",end=\"\");\n",
    "                print(Set(I[len(I)-1]));\n",
    "                return;\n",
    "            \n",
    "            # detect if L is already inside the conjuation class of J, cutting redundant search.\n",
    "            selfloop=False;\n",
    "            for l in range(len(M)):\n",
    "                if (Set(L)==Set(M[l])):\n",
    "                    selfloop=True;\n",
    "            if selfloop:\n",
    "                continue;\n",
    "            I.append(L);\n",
    "            M.append(L);\n",
    "            DFS(i+1);\n",
    "            if conjugate:\n",
    "                return;\n",
    "            I.pop();\n",
    "            X.pop();\n",
    "    \n",
    "DFS(0);\n",
    "if not(conjugate):\n",
    "    print(\"The two parabolic subgroups are not conjugate.\")"
   ]
  }
 ],
 "metadata": {
  "kernelspec": {
   "display_name": "SageMath 9.3",
   "language": "sage",
   "name": "sagemath"
  },
  "language_info": {
   "codemirror_mode": {
    "name": "ipython",
    "version": 3
   },
   "file_extension": ".py",
   "mimetype": "text/x-python",
   "name": "python",
   "nbconvert_exporter": "python",
   "pygments_lexer": "ipython3",
   "version": "3.7.10"
  }
 },
 "nbformat": 4,
 "nbformat_minor": 4
}
