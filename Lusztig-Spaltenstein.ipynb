{
 "cells": [
  {
   "cell_type": "code",
   "execution_count": 15,
   "metadata": {
    "scrolled": true
   },
   "outputs": [
    {
     "name": "stdout",
     "output_type": "stream",
     "text": [
      "The two parabolic subgroups are not conjugate.\n",
      "All conjugates of  [1, 2, 3, 4]  are [[1, 2, 3, 4], [5, 1, 4, 3], [6, 3, 5, 4], [2, 6, 4, 5], [4, 7, 5, 6], [5, 8, 6, 7]]\n"
     ]
    }
   ],
   "source": [
    "# Lusztig-Spaltenstein Algorithm\n",
    "# Type E convention 1 3 4 5 6 7 8 same as Bourbaki\n",
    "#                       2\n",
    "\n",
    "# Input under above convention if type E\n",
    "J=[1,2,3,4];\n",
    "K=[1,2,3,5];\n",
    "Type='E';n=8;\n",
    "\n",
    "# Main program\n",
    "\n",
    "\n",
    "# Lusztig_Spaltenstein algorithm\n",
    "\n",
    "def Lusztig_Spaltenstein(i,conjugate,W,I,X,M,J,K):  \n",
    "    # return J and K are conjugated or not (current position in I, conjugated or not, weyl group, I:I_i with I_0=J  I_n=K satisfying given conditions, record element used for conjugation, collection of all conjugates of J, # The elements used for conjugation, J,K): boolean whether J and K are conjugated.\n",
    "    if Set(J)==Set(K):\n",
    "        return True,M;\n",
    "    for j in range(n):\n",
    "        if (not ((j+1) in I[i])):\n",
    "\n",
    "            L=copy(I[i]);\n",
    "            L.append(j+1);\n",
    "            x=W.long_element(index_set=I[i])*W.long_element(index_set=L); #longest coset representative.\n",
    "            X.append(x);\n",
    "            L.pop();\n",
    "\n",
    "            # calculate x^-1*L*x and see if it is again standard parabolic.\n",
    "            flag=False;\n",
    "            for k in range(len(L)):\n",
    "                y=x^-1*W.simple_reflection(L[k])*x;\n",
    "                if y.length()!=1: #x^-1*L*x is not simple reflection\n",
    "                    flag=True;\n",
    "                    break;\n",
    "                L[k]=int(str(y)[1:]);\n",
    "            if flag:\n",
    "                continue;\n",
    "            if Set(L)==Set(K):\n",
    "                conjugate=True;\n",
    "                I.append(L);\n",
    "                print(\"The two parabolic subgroups are conjugate, with conjugation sequence as follows:\");\n",
    "                for l in range(len(I)-1):\n",
    "                    print(Set(I[l]),\"--\", X[l],\"-> \",end=\"\");\n",
    "                print(Set(I[len(I)-1]));\n",
    "                return conjugate,M;\n",
    "\n",
    "            # detect if L is already inside the conjuation class of J, cutting redundant search.\n",
    "            selfloop=False;\n",
    "            for l in range(len(M)):\n",
    "                if (Set(L)==Set(M[l])):\n",
    "                    selfloop=True;\n",
    "            if selfloop:\n",
    "                continue;\n",
    "            I.append(L);\n",
    "            M.append(L); # memorize all conjugates of J.\n",
    "            conjugate,M=Lusztig_Spaltenstein(i+1,conjugate,W,I,X,M,J,K);\n",
    "            if conjugate:\n",
    "                return conjugate,M;\n",
    "            I.pop();\n",
    "            X.pop();\n",
    "    return conjugate,M;   \n",
    "\n",
    "W=WeylGroup([Type,n],prefix=\"s\",implementation=\"permutation\");\n",
    "flag,M=Lusztig_Spaltenstein(0,False,W,[J],[],[J],J,K);\n",
    "if not(flag):\n",
    "    print(\"The two parabolic subgroups are not conjugate.\");\n",
    "    print(\"All conjugates of \",J,\" are\", M);"
   ]
  }
 ],
 "metadata": {
  "kernelspec": {
   "display_name": "SageMath 9.3",
   "language": "sage",
   "name": "sagemath"
  },
  "language_info": {
   "codemirror_mode": {
    "name": "ipython",
    "version": 3
   },
   "file_extension": ".py",
   "mimetype": "text/x-python",
   "name": "python",
   "nbconvert_exporter": "python",
   "pygments_lexer": "ipython3",
   "version": "3.7.10"
  }
 },
 "nbformat": 4,
 "nbformat_minor": 4
}
