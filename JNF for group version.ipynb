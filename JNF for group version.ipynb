{
 "cells": [
  {
   "cell_type": "code",
   "execution_count": 170,
   "metadata": {},
   "outputs": [
    {
     "data": {
      "text/html": [
       "<html><script type=\"math/tex; mode=display\">\\newcommand{\\Bold}[1]{\\mathbf{#1}}\\verb|U9*U7*U6*U5*U2*U1*U3^t*U4^t*U8^t| \\verb|=| \\left(\\begin{array}{rrrrrrrrrr}\n",
       "1 & a & 0 & 0 & 0 & 0 & 0 & 0 & 0 & 0 \\\\\n",
       "0 & 1 & b & 0 & 0 & 0 & 0 & 0 & 0 & 0 \\\\\n",
       "0 & 0 & 1 & 0 & 0 & 0 & 0 & 0 & 0 & 0 \\\\\n",
       "0 & 0 & c & 1 & 0 & 0 & 0 & 0 & 0 & 0 \\\\\n",
       "0 & 0 & 0 & d & 1 & e & 0 & 0 & 0 & 0 \\\\\n",
       "0 & 0 & 0 & 0 & 0 & 1 & f & 0 & 0 & 0 \\\\\n",
       "0 & 0 & 0 & 0 & 0 & 0 & 1 & g & 0 & 0 \\\\\n",
       "0 & 0 & 0 & 0 & 0 & 0 & 0 & 1 & 0 & 0 \\\\\n",
       "0 & 0 & 0 & 0 & 0 & 0 & 0 & h & 1 & i \\\\\n",
       "0 & 0 & 0 & 0 & 0 & 0 & 0 & 0 & 0 & 1\n",
       "\\end{array}\\right)</script></html>"
      ],
      "text/latex": [
       "$$\\newcommand{\\Bold}[1]{\\mathbf{#1}}\\verb|U9*U7*U6*U5*U2*U1*U3^t*U4^t*U8^t| \\verb|=| \\left(\\begin{array}{rrrrrrrrrr}\n",
       "1 & a & 0 & 0 & 0 & 0 & 0 & 0 & 0 & 0 \\\\\n",
       "0 & 1 & b & 0 & 0 & 0 & 0 & 0 & 0 & 0 \\\\\n",
       "0 & 0 & 1 & 0 & 0 & 0 & 0 & 0 & 0 & 0 \\\\\n",
       "0 & 0 & c & 1 & 0 & 0 & 0 & 0 & 0 & 0 \\\\\n",
       "0 & 0 & 0 & d & 1 & e & 0 & 0 & 0 & 0 \\\\\n",
       "0 & 0 & 0 & 0 & 0 & 1 & f & 0 & 0 & 0 \\\\\n",
       "0 & 0 & 0 & 0 & 0 & 0 & 1 & g & 0 & 0 \\\\\n",
       "0 & 0 & 0 & 0 & 0 & 0 & 0 & 1 & 0 & 0 \\\\\n",
       "0 & 0 & 0 & 0 & 0 & 0 & 0 & h & 1 & i \\\\\n",
       "0 & 0 & 0 & 0 & 0 & 0 & 0 & 0 & 0 & 1\n",
       "\\end{array}\\right)$$"
      ],
      "text/plain": [
       "'U9*U7*U6*U5*U2*U1*U3^t*U4^t*U8^t' '=' [1 a 0 0 0 0 0 0 0 0]\n",
       "[0 1 b 0 0 0 0 0 0 0]\n",
       "[0 0 1 0 0 0 0 0 0 0]\n",
       "[0 0 c 1 0 0 0 0 0 0]\n",
       "[0 0 0 d 1 e 0 0 0 0]\n",
       "[0 0 0 0 0 1 f 0 0 0]\n",
       "[0 0 0 0 0 0 1 g 0 0]\n",
       "[0 0 0 0 0 0 0 1 0 0]\n",
       "[0 0 0 0 0 0 0 h 1 i]\n",
       "[0 0 0 0 0 0 0 0 0 1]"
      ]
     },
     "metadata": {},
     "output_type": "display_data"
    },
    {
     "data": {
      "text/html": [
       "<html><script type=\"math/tex; mode=display\">\\newcommand{\\Bold}[1]{\\mathbf{#1}}\\verb|whose|\\phantom{\\verb!x!}\\verb|jordan|\\phantom{\\verb!x!}\\verb|form|\\phantom{\\verb!x!}\\verb|is=| \\left(\\begin{array}{rrrrrrrrrr}\n",
       "1 & 1 & 0 & 0 & 0 & 0 & 0 & 0 & 0 & 0 \\\\\n",
       "0 & 1 & 1 & 0 & 0 & 0 & 0 & 0 & 0 & 0 \\\\\n",
       "0 & 0 & 1 & 1 & 0 & 0 & 0 & 0 & 0 & 0 \\\\\n",
       "0 & 0 & 0 & 1 & 0 & 0 & 0 & 0 & 0 & 0 \\\\\n",
       "0 & 0 & 0 & 0 & 1 & 1 & 0 & 0 & 0 & 0 \\\\\n",
       "0 & 0 & 0 & 0 & 0 & 1 & 1 & 0 & 0 & 0 \\\\\n",
       "0 & 0 & 0 & 0 & 0 & 0 & 1 & 0 & 0 & 0 \\\\\n",
       "0 & 0 & 0 & 0 & 0 & 0 & 0 & 1 & 1 & 0 \\\\\n",
       "0 & 0 & 0 & 0 & 0 & 0 & 0 & 0 & 1 & 0 \\\\\n",
       "0 & 0 & 0 & 0 & 0 & 0 & 0 & 0 & 0 & 1\n",
       "\\end{array}\\right)</script></html>"
      ],
      "text/latex": [
       "$$\\newcommand{\\Bold}[1]{\\mathbf{#1}}\\verb|whose|\\phantom{\\verb!x!}\\verb|jordan|\\phantom{\\verb!x!}\\verb|form|\\phantom{\\verb!x!}\\verb|is=| \\left(\\begin{array}{rrrrrrrrrr}\n",
       "1 & 1 & 0 & 0 & 0 & 0 & 0 & 0 & 0 & 0 \\\\\n",
       "0 & 1 & 1 & 0 & 0 & 0 & 0 & 0 & 0 & 0 \\\\\n",
       "0 & 0 & 1 & 1 & 0 & 0 & 0 & 0 & 0 & 0 \\\\\n",
       "0 & 0 & 0 & 1 & 0 & 0 & 0 & 0 & 0 & 0 \\\\\n",
       "0 & 0 & 0 & 0 & 1 & 1 & 0 & 0 & 0 & 0 \\\\\n",
       "0 & 0 & 0 & 0 & 0 & 1 & 1 & 0 & 0 & 0 \\\\\n",
       "0 & 0 & 0 & 0 & 0 & 0 & 1 & 0 & 0 & 0 \\\\\n",
       "0 & 0 & 0 & 0 & 0 & 0 & 0 & 1 & 1 & 0 \\\\\n",
       "0 & 0 & 0 & 0 & 0 & 0 & 0 & 0 & 1 & 0 \\\\\n",
       "0 & 0 & 0 & 0 & 0 & 0 & 0 & 0 & 0 & 1\n",
       "\\end{array}\\right)$$"
      ],
      "text/plain": [
       "'whose jordan form is=' [1 1 0 0 0 0 0 0 0 0]\n",
       "[0 1 1 0 0 0 0 0 0 0]\n",
       "[0 0 1 1 0 0 0 0 0 0]\n",
       "[0 0 0 1 0 0 0 0 0 0]\n",
       "[0 0 0 0 1 1 0 0 0 0]\n",
       "[0 0 0 0 0 1 1 0 0 0]\n",
       "[0 0 0 0 0 0 1 0 0 0]\n",
       "[0 0 0 0 0 0 0 1 1 0]\n",
       "[0 0 0 0 0 0 0 0 1 0]\n",
       "[0 0 0 0 0 0 0 0 0 1]"
      ]
     },
     "metadata": {},
     "output_type": "display_data"
    }
   ],
   "source": [
    "#type A\n",
    "n=9;\n",
    "J1=[1,2,5,6,7,9];\n",
    "J2=[3,4,8];\n",
    "\n",
    "M= matrix(SR, n+1, var([\"s_\"+str(i+1)+str(j+1) for i in range(n+1) for j in range(n+1)]))\n",
    "I=matrix.identity(n+1);\n",
    "U=[];\n",
    "U.append(I);\n",
    "for k in range(n):\n",
    "    U.append(matrix.zero(n+1));\n",
    "    U[k+1][k,k+1]=1;\n",
    "    U[k+1]=U[k+1]*var(chr(97+k))+I;\n",
    "#     U[k+1]=U[k+1]+I;\n",
    "ans=I;\n",
    "exp=\"\";\n",
    "for i in J1[::-1]:\n",
    "    exp=exp+\"U\"+str(i)+\"*\";\n",
    "    ans=ans*U[i];\n",
    "for i in J2:\n",
    "    exp=exp+\"U\"+str(i)+\"^t*\";\n",
    "    ans=ans*U[i].transpose();\n",
    "show(exp[:len(exp)-1],\"=\",ans)\n",
    "show(\"whose jordan form is=\",ans.jordan_form())"
   ]
  },
  {
   "cell_type": "code",
   "execution_count": 20,
   "metadata": {},
   "outputs": [
    {
     "data": {
      "text/html": [
       "<html><script type=\"math/tex; mode=display\">\\newcommand{\\Bold}[1]{\\mathbf{#1}}\\verb|U4*U3*U2*U1*U6^t*U5^t| \\verb|=| \\left(\\begin{array}{rrrrrrrrrrrr}\n",
       "1 & a & 0 & 0 & 0 & 0 & 0 & 0 & 0 & 0 & 0 & 0 \\\\\n",
       "0 & 1 & b & 0 & 0 & 0 & 0 & 0 & 0 & 0 & 0 & 0 \\\\\n",
       "0 & 0 & 1 & c & 0 & 0 & 0 & 0 & 0 & 0 & 0 & 0 \\\\\n",
       "0 & 0 & 0 & 1 & d & 0 & 0 & 0 & 0 & 0 & 0 & 0 \\\\\n",
       "0 & 0 & 0 & 0 & 1 & 0 & 0 & 0 & 0 & 0 & 0 & 0 \\\\\n",
       "0 & 0 & 0 & 0 & e & 1 & 0 & 0 & 0 & 0 & 0 & 0 \\\\\n",
       "0 & 0 & 0 & 0 & f & 0 & 1 & 0 & 0 & 0 & 0 & 0 \\\\\n",
       "0 & 0 & 0 & 0 & -e f & -f & -e & 1 & -d & c d & -b c d & a b c d \\\\\n",
       "0 & 0 & 0 & 0 & 0 & 0 & 0 & 0 & 1 & -c & b c & -a b c \\\\\n",
       "0 & 0 & 0 & 0 & 0 & 0 & 0 & 0 & 0 & 1 & -b & a b \\\\\n",
       "0 & 0 & 0 & 0 & 0 & 0 & 0 & 0 & 0 & 0 & 1 & -a \\\\\n",
       "0 & 0 & 0 & 0 & 0 & 0 & 0 & 0 & 0 & 0 & 0 & 1\n",
       "\\end{array}\\right)</script></html>"
      ],
      "text/latex": [
       "$$\\newcommand{\\Bold}[1]{\\mathbf{#1}}\\verb|U4*U3*U2*U1*U6^t*U5^t| \\verb|=| \\left(\\begin{array}{rrrrrrrrrrrr}\n",
       "1 & a & 0 & 0 & 0 & 0 & 0 & 0 & 0 & 0 & 0 & 0 \\\\\n",
       "0 & 1 & b & 0 & 0 & 0 & 0 & 0 & 0 & 0 & 0 & 0 \\\\\n",
       "0 & 0 & 1 & c & 0 & 0 & 0 & 0 & 0 & 0 & 0 & 0 \\\\\n",
       "0 & 0 & 0 & 1 & d & 0 & 0 & 0 & 0 & 0 & 0 & 0 \\\\\n",
       "0 & 0 & 0 & 0 & 1 & 0 & 0 & 0 & 0 & 0 & 0 & 0 \\\\\n",
       "0 & 0 & 0 & 0 & e & 1 & 0 & 0 & 0 & 0 & 0 & 0 \\\\\n",
       "0 & 0 & 0 & 0 & f & 0 & 1 & 0 & 0 & 0 & 0 & 0 \\\\\n",
       "0 & 0 & 0 & 0 & -e f & -f & -e & 1 & -d & c d & -b c d & a b c d \\\\\n",
       "0 & 0 & 0 & 0 & 0 & 0 & 0 & 0 & 1 & -c & b c & -a b c \\\\\n",
       "0 & 0 & 0 & 0 & 0 & 0 & 0 & 0 & 0 & 1 & -b & a b \\\\\n",
       "0 & 0 & 0 & 0 & 0 & 0 & 0 & 0 & 0 & 0 & 1 & -a \\\\\n",
       "0 & 0 & 0 & 0 & 0 & 0 & 0 & 0 & 0 & 0 & 0 & 1\n",
       "\\end{array}\\right)$$"
      ],
      "text/plain": [
       "'U4*U3*U2*U1*U6^t*U5^t' '=' [      1       a       0       0       0       0       0       0       0       0       0       0]\n",
       "[      0       1       b       0       0       0       0       0       0       0       0       0]\n",
       "[      0       0       1       c       0       0       0       0       0       0       0       0]\n",
       "[      0       0       0       1       d       0       0       0       0       0       0       0]\n",
       "[      0       0       0       0       1       0       0       0       0       0       0       0]\n",
       "[      0       0       0       0       e       1       0       0       0       0       0       0]\n",
       "[      0       0       0       0       f       0       1       0       0       0       0       0]\n",
       "[      0       0       0       0    -e*f      -f      -e       1      -d     c*d  -b*c*d a*b*c*d]\n",
       "[      0       0       0       0       0       0       0       0       1      -c     b*c  -a*b*c]\n",
       "[      0       0       0       0       0       0       0       0       0       1      -b     a*b]\n",
       "[      0       0       0       0       0       0       0       0       0       0       1      -a]\n",
       "[      0       0       0       0       0       0       0       0       0       0       0       1]"
      ]
     },
     "metadata": {},
     "output_type": "display_data"
    },
    {
     "data": {
      "text/html": [
       "<html><script type=\"math/tex; mode=display\">\\newcommand{\\Bold}[1]{\\mathbf{#1}}\\verb|whose|\\phantom{\\verb!x!}\\verb|jordan|\\phantom{\\verb!x!}\\verb|form|\\phantom{\\verb!x!}\\verb|is=| \\left(\\begin{array}{rrrrrrrrrrrr}\n",
       "1 & 1 & 0 & 0 & 0 & 0 & 0 & 0 & 0 & 0 & 0 & 0 \\\\\n",
       "0 & 1 & 1 & 0 & 0 & 0 & 0 & 0 & 0 & 0 & 0 & 0 \\\\\n",
       "0 & 0 & 1 & 1 & 0 & 0 & 0 & 0 & 0 & 0 & 0 & 0 \\\\\n",
       "0 & 0 & 0 & 1 & 1 & 0 & 0 & 0 & 0 & 0 & 0 & 0 \\\\\n",
       "0 & 0 & 0 & 0 & 1 & 0 & 0 & 0 & 0 & 0 & 0 & 0 \\\\\n",
       "0 & 0 & 0 & 0 & 0 & 1 & 1 & 0 & 0 & 0 & 0 & 0 \\\\\n",
       "0 & 0 & 0 & 0 & 0 & 0 & 1 & 1 & 0 & 0 & 0 & 0 \\\\\n",
       "0 & 0 & 0 & 0 & 0 & 0 & 0 & 1 & 1 & 0 & 0 & 0 \\\\\n",
       "0 & 0 & 0 & 0 & 0 & 0 & 0 & 0 & 1 & 1 & 0 & 0 \\\\\n",
       "0 & 0 & 0 & 0 & 0 & 0 & 0 & 0 & 0 & 1 & 0 & 0 \\\\\n",
       "0 & 0 & 0 & 0 & 0 & 0 & 0 & 0 & 0 & 0 & 1 & 0 \\\\\n",
       "0 & 0 & 0 & 0 & 0 & 0 & 0 & 0 & 0 & 0 & 0 & 1\n",
       "\\end{array}\\right)</script></html>"
      ],
      "text/latex": [
       "$$\\newcommand{\\Bold}[1]{\\mathbf{#1}}\\verb|whose|\\phantom{\\verb!x!}\\verb|jordan|\\phantom{\\verb!x!}\\verb|form|\\phantom{\\verb!x!}\\verb|is=| \\left(\\begin{array}{rrrrrrrrrrrr}\n",
       "1 & 1 & 0 & 0 & 0 & 0 & 0 & 0 & 0 & 0 & 0 & 0 \\\\\n",
       "0 & 1 & 1 & 0 & 0 & 0 & 0 & 0 & 0 & 0 & 0 & 0 \\\\\n",
       "0 & 0 & 1 & 1 & 0 & 0 & 0 & 0 & 0 & 0 & 0 & 0 \\\\\n",
       "0 & 0 & 0 & 1 & 1 & 0 & 0 & 0 & 0 & 0 & 0 & 0 \\\\\n",
       "0 & 0 & 0 & 0 & 1 & 0 & 0 & 0 & 0 & 0 & 0 & 0 \\\\\n",
       "0 & 0 & 0 & 0 & 0 & 1 & 1 & 0 & 0 & 0 & 0 & 0 \\\\\n",
       "0 & 0 & 0 & 0 & 0 & 0 & 1 & 1 & 0 & 0 & 0 & 0 \\\\\n",
       "0 & 0 & 0 & 0 & 0 & 0 & 0 & 1 & 1 & 0 & 0 & 0 \\\\\n",
       "0 & 0 & 0 & 0 & 0 & 0 & 0 & 0 & 1 & 1 & 0 & 0 \\\\\n",
       "0 & 0 & 0 & 0 & 0 & 0 & 0 & 0 & 0 & 1 & 0 & 0 \\\\\n",
       "0 & 0 & 0 & 0 & 0 & 0 & 0 & 0 & 0 & 0 & 1 & 0 \\\\\n",
       "0 & 0 & 0 & 0 & 0 & 0 & 0 & 0 & 0 & 0 & 0 & 1\n",
       "\\end{array}\\right)$$"
      ],
      "text/plain": [
       "'whose jordan form is=' [1 1 0 0 0 0 0 0 0 0 0 0]\n",
       "[0 1 1 0 0 0 0 0 0 0 0 0]\n",
       "[0 0 1 1 0 0 0 0 0 0 0 0]\n",
       "[0 0 0 1 1 0 0 0 0 0 0 0]\n",
       "[0 0 0 0 1 0 0 0 0 0 0 0]\n",
       "[0 0 0 0 0 1 1 0 0 0 0 0]\n",
       "[0 0 0 0 0 0 1 1 0 0 0 0]\n",
       "[0 0 0 0 0 0 0 1 1 0 0 0]\n",
       "[0 0 0 0 0 0 0 0 1 1 0 0]\n",
       "[0 0 0 0 0 0 0 0 0 1 0 0]\n",
       "[0 0 0 0 0 0 0 0 0 0 1 0]\n",
       "[0 0 0 0 0 0 0 0 0 0 0 1]"
      ]
     },
     "metadata": {},
     "output_type": "display_data"
    }
   ],
   "source": [
    "#type D\n",
    "n=6;\n",
    "J1=[1,2,3,4];\n",
    "J2=[5,6];\n",
    "\n",
    "\n",
    "M= matrix(SR, 2*n, var([\"s_\"+str(i+1)+str(j+1) for i in range(2*n) for j in range(2*n)]))\n",
    "I=matrix.identity(2*n);\n",
    "U=[];\n",
    "U.append(I);\n",
    "for k in [1..n-1]:\n",
    "    U.append(matrix.zero(2*n));\n",
    "    U[k][k-1,k]=1;U[k][k+n,k+n-1]=-1;\n",
    "    U[k]=U[k]*var(chr(97+k-1))+I;\n",
    "#     last root\n",
    "U.append(matrix.zero(2*n));\n",
    "U[n][n-2,2*n-1]=1;U[n][n-1,2*n-2]=-1;\n",
    "U[n]=U[n]*var(chr(97+n-1))+I;\n",
    "J=matrix.identity(2*n); # switch backwards rows n+1,..., 2n;\n",
    "for i in range(n):\n",
    "    J[i+n,i+n]=0;\n",
    "    J[i+n,2*n-i-1]=1;\n",
    "for i in [1..n]:\n",
    "    U[i]=J*U[i]*J^-1;\n",
    "ans=I;\n",
    "# show(U)\n",
    "\n",
    "\n",
    "exp=\"\";\n",
    "for i in J1[::-1]:\n",
    "    exp=exp+\"U\"+str(i)+\"*\";\n",
    "    ans=ans*U[i];\n",
    "for i in J2[::-1]:\n",
    "    exp=exp+\"U\"+str(i)+\"^t*\";\n",
    "    ans=ans*U[i].transpose();\n",
    "show(exp[:len(exp)-1],\"=\",ans)\n",
    "show(\"whose jordan form is=\",ans.jordan_form())"
   ]
  }
 ],
 "metadata": {
  "kernelspec": {
   "display_name": "SageMath 9.3",
   "language": "sage",
   "name": "sagemath"
  },
  "language_info": {
   "codemirror_mode": {
    "name": "ipython",
    "version": 3
   },
   "file_extension": ".py",
   "mimetype": "text/x-python",
   "name": "python",
   "nbconvert_exporter": "python",
   "pygments_lexer": "ipython3",
   "version": "3.7.10"
  }
 },
 "nbformat": 4,
 "nbformat_minor": 4
}
